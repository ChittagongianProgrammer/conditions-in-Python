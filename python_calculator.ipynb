{
 "cells": [
  {
   "cell_type": "code",
   "execution_count": 1,
   "metadata": {},
   "outputs": [
    {
     "name": "stdout",
     "output_type": "stream",
     "text": [
      "ERROR:jew IS NOT AN OPERATOR!\n"
     ]
    }
   ],
   "source": [
    "import math\n",
    "\n",
    "operation = input(\"Enter any operator: \")\n",
    "\n",
    "if operation == \"+\":\n",
    "    x = float(input(\"Enter the first value: \"))\n",
    "    y = float(input(\"Enter the second value: \"))\n",
    "    addition = x + y\n",
    "    print(f\"It is equal to: {round(addition,3)}.\")\n",
    "elif operation == \"-\":\n",
    "    x = float(input(\"Enter the first value: \"))\n",
    "    y = float(input(\"Enter the second value: \"))\n",
    "    subtraction = x - y\n",
    "    print(f\"It is equal to: {round(subtraction,3)}.\")\n",
    "elif operation == \"*\":\n",
    "    x = float(input(\"Enter the first value: \"))\n",
    "    y = float(input(\"Enter the second value: \"))\n",
    "    multiplication = x * y\n",
    "    print(f\"It is equal: {round(multiplication,3)}.\")\n",
    "elif operation == \"/\":\n",
    "    x = float(input(\"Enter the first value: \"))\n",
    "    y = float(input(\"Enter the second value: \"))\n",
    "    if y == 0 :\n",
    "        print(\"You cannot divide by zero, please pick another number.\")\n",
    "    else:\n",
    "        division = x / y\n",
    "        print(f\"It is equal: {round(division,3)}.\")\n",
    "elif operation == \"abs\":\n",
    "    x = float(input(\"Enter any value: \"))\n",
    "    absolute_value = abs(x)\n",
    "    print(f\"It is equal: {round(absolute_value,3)}.\")\n",
    "elif operation == \"**\":\n",
    "    x = float(input(\"Enter any value: \"))\n",
    "    y = float(input(\"Enter the power value: \"))\n",
    "    power_value = pow(x,y)\n",
    "    print(f\"It is equal: {round(power_value,3)}.\")\n",
    "elif operation == \"sqr\":\n",
    "    x = float(input(\"Enter any value: \"))\n",
    "    squared = math.sqrt(x)\n",
    "    print(f\"It is equal: {round(squared,3)} \")\n",
    "else:\n",
    "    print(f\"ERROR:{operation} IS NOT AN OPERATOR!\")"
   ]
  }
 ],
 "metadata": {
  "kernelspec": {
   "display_name": "Python 3",
   "language": "python",
   "name": "python3"
  },
  "language_info": {
   "codemirror_mode": {
    "name": "ipython",
    "version": 3
   },
   "file_extension": ".py",
   "mimetype": "text/x-python",
   "name": "python",
   "nbconvert_exporter": "python",
   "pygments_lexer": "ipython3",
   "version": "3.11.7"
  }
 },
 "nbformat": 4,
 "nbformat_minor": 2
}
