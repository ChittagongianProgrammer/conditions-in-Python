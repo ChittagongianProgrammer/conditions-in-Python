{
 "cells": [
  {
   "cell_type": "markdown",
   "metadata": {},
   "source": [
    "Conditional Statements"
   ]
  },
  {
   "cell_type": "code",
   "execution_count": 3,
   "metadata": {},
   "outputs": [
    {
     "name": "stdout",
     "output_type": "stream",
     "text": [
      "You cannot join because you are too old! \n"
     ]
    }
   ],
   "source": [
    "age = int(input(\"Enter your age: \"))\n",
    "\n",
    "if age >= 100:\n",
    "    print(\"You cannot join because you are too old! \")\n",
    "elif age >= 18:\n",
    "    print(\"You can join!\")\n",
    "elif age < 0:\n",
    "    print(\"You can't trick us!\")\n",
    "else:\n",
    "    print(\"You must be over 18 to join!\")"
   ]
  },
  {
   "cell_type": "markdown",
   "metadata": {},
   "source": [
    "Customer Service Example"
   ]
  },
  {
   "cell_type": "code",
   "execution_count": 10,
   "metadata": {},
   "outputs": [
    {
     "name": "stdout",
     "output_type": "stream",
     "text": [
      "I will assist you.\n"
     ]
    }
   ],
   "source": [
    "response = input(\"Would you like my help? (Y/N): \")\n",
    "\n",
    "if response == \"Y\":\n",
    "    print(\"I will assist you.\")\n",
    "elif response == \"N\":\n",
    "    print(\"Let us know if you change your mind!\")\n",
    "else:\n",
    "    print(\"That is not a valid answer.\")"
   ]
  },
  {
   "cell_type": "markdown",
   "metadata": {},
   "source": [
    "Boolean Example"
   ]
  },
  {
   "cell_type": "code",
   "execution_count": 1,
   "metadata": {},
   "outputs": [
    {
     "name": "stdout",
     "output_type": "stream",
     "text": [
      "Do not add them!\n"
     ]
    }
   ],
   "source": [
    "offline = True\n",
    "\n",
    "if offline:\n",
    "    print(\"Do not add them!\")\n",
    "else:\n",
    "    print(\"Add them to the lobby!\")"
   ]
  }
 ],
 "metadata": {
  "kernelspec": {
   "display_name": "Python 3",
   "language": "python",
   "name": "python3"
  },
  "language_info": {
   "codemirror_mode": {
    "name": "ipython",
    "version": 3
   },
   "file_extension": ".py",
   "mimetype": "text/x-python",
   "name": "python",
   "nbconvert_exporter": "python",
   "pygments_lexer": "ipython3",
   "version": "3.11.7"
  }
 },
 "nbformat": 4,
 "nbformat_minor": 2
}
